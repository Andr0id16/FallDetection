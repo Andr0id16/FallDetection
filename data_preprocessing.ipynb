{
 "cells": [
  {
   "attachments": {},
   "cell_type": "markdown",
   "metadata": {},
   "source": [
    "<h1><font color=\"aquamarine\">K Fall Data Preprocessing</font></h1>"
   ]
  },
  {
   "attachments": {},
   "cell_type": "markdown",
   "metadata": {},
   "source": [
    "<h3><font color=\"lightblue\">Importing Libraries</font></h3>"
   ]
  },
  {
   "cell_type": "code",
   "execution_count": 2,
   "metadata": {},
   "outputs": [],
   "source": [
    "import numpy as np\n",
    "import pandas as pd\n",
    "import matplotlib\n",
    "import os\n"
   ]
  },
  {
   "attachments": {},
   "cell_type": "markdown",
   "metadata": {},
   "source": [
    "<h3><font color=\"lightblue\">Setup Paths and Constants</font></h3>"
   ]
  },
  {
   "cell_type": "code",
   "execution_count": 3,
   "metadata": {},
   "outputs": [],
   "source": [
    "sensor_train_data_path = \"./datasets/sensor/sensor_data/\"\n",
    "sensor_train_label_path = \"./datasets/sensor/label_data/\""
   ]
  },
  {
   "attachments": {},
   "cell_type": "markdown",
   "metadata": {},
   "source": [
    "<h3><font color=\"lightblue\">Importing dataset</font></h3>"
   ]
  },
  {
   "cell_type": "code",
   "execution_count": 16,
   "metadata": {},
   "outputs": [
    {
     "name": "stdout",
     "output_type": "stream",
     "text": [
      "SA06\n",
      "current_total:  0\n",
      "folder_count: 156\n",
      "SA07\n",
      "current_total:  156\n",
      "folder_count: 150\n",
      "SA08\n",
      "current_total:  306\n",
      "folder_count: 163\n",
      "SA09\n",
      "current_total:  469\n",
      "folder_count: 153\n",
      "SA10\n",
      "current_total:  622\n",
      "folder_count: 159\n",
      "SA11\n",
      "current_total:  781\n",
      "folder_count: 163\n",
      "SA12\n",
      "current_total:  944\n",
      "folder_count: 142\n",
      "SA13\n",
      "current_total:  1086\n",
      "folder_count: 160\n",
      "SA14\n",
      "current_total:  1246\n",
      "folder_count: 162\n",
      "SA15\n",
      "current_total:  1408\n",
      "folder_count: 162\n",
      "SA16\n",
      "current_total:  1570\n",
      "folder_count: 163\n",
      "SA17\n",
      "current_total:  1733\n",
      "folder_count: 161\n",
      "SA18\n",
      "current_total:  1894\n",
      "folder_count: 160\n",
      "SA19\n",
      "current_total:  2054\n",
      "folder_count: 158\n",
      "SA20\n",
      "current_total:  2212\n",
      "folder_count: 156\n",
      "SA21\n",
      "current_total:  2368\n",
      "folder_count: 163\n",
      "SA22\n",
      "current_total:  2531\n",
      "folder_count: 161\n",
      "SA23\n",
      "current_total:  2692\n",
      "folder_count: 163\n",
      "SA24\n",
      "current_total:  2855\n",
      "folder_count: 153\n",
      "SA25\n",
      "current_total:  3008\n",
      "folder_count: 163\n",
      "SA26\n",
      "current_total:  3171\n",
      "folder_count: 161\n",
      "SA27\n",
      "current_total:  3332\n",
      "folder_count: 157\n",
      "SA28\n",
      "current_total:  3489\n",
      "folder_count: 156\n",
      "SA29\n",
      "current_total:  3645\n",
      "folder_count: 158\n",
      "SA30\n",
      "current_total:  3803\n",
      "folder_count: 161\n",
      "SA31\n",
      "current_total:  3964\n",
      "folder_count: 156\n",
      "SA32\n",
      "current_total:  4120\n",
      "folder_count: 163\n",
      "SA33\n",
      "current_total:  4283\n",
      "folder_count: 162\n",
      "SA35\n",
      "current_total:  4445\n",
      "folder_count: 160\n",
      "SA36\n",
      "current_total:  4605\n",
      "folder_count: 160\n",
      "SA37\n",
      "current_total:  4765\n",
      "folder_count: 148\n",
      "SA38\n",
      "current_total:  4913\n",
      "folder_count: 162\n",
      "Total:  5075\n"
     ]
    }
   ],
   "source": [
    "## Counting the number of samples in the entire dataset\n",
    "\n",
    "count = 0\n",
    "for folder in os.listdir(sensor_train_data_path):\n",
    "    print(folder)\n",
    "    folder_count = 0\n",
    "    for csv_file in os.listdir(os.path.join(sensor_train_data_path,folder)):\n",
    "        folder_count +=1\n",
    "    print(\"current_total: \",count)\n",
    "    print(\"folder_count:\",folder_count)\n",
    "    count = count+folder_count\n",
    "print(\"Total: \",count)"
   ]
  },
  {
   "cell_type": "code",
   "execution_count": null,
   "metadata": {},
   "outputs": [],
   "source": []
  }
 ],
 "metadata": {
  "kernelspec": {
   "display_name": "Python 3",
   "language": "python",
   "name": "python3"
  },
  "language_info": {
   "codemirror_mode": {
    "name": "ipython",
    "version": 3
   },
   "file_extension": ".py",
   "mimetype": "text/x-python",
   "name": "python",
   "nbconvert_exporter": "python",
   "pygments_lexer": "ipython3",
   "version": "3.10.9"
  },
  "orig_nbformat": 4
 },
 "nbformat": 4,
 "nbformat_minor": 2
}
