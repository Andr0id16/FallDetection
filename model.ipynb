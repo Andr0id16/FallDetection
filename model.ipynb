{
 "cells": [
  {
   "cell_type": "code",
   "execution_count": 1,
   "metadata": {},
   "outputs": [],
   "source": [
    "import numpy as np\n",
    "import pandas as pd\n",
    "import os\n",
    "import tensorflow as tf\n",
    "import tensorflow.keras.layers as layers\n",
    "import tensorflow.keras as keras\n",
    "from sklearn.model_selection import train_test_split\n"
   ]
  },
  {
   "cell_type": "code",
   "execution_count": 2,
   "metadata": {},
   "outputs": [],
   "source": [
    "DATA_PATH = \"./data/\"\n",
    "FALL_DATA_PATH = \"./data/fall/\"\n",
    "NOTFALL_DATA_PATH = './data/notfall/'"
   ]
  },
  {
   "cell_type": "code",
   "execution_count": 3,
   "metadata": {},
   "outputs": [],
   "source": [
    "fall_frames = []\n",
    "for fall_csv in os.listdir(FALL_DATA_PATH):\n",
    "    fall_csv_path = os.path.join(FALL_DATA_PATH,fall_csv)\n",
    "    fall_csv_dataframe = pd.read_csv(fall_csv_path,header=None)\n",
    "    fall_frames.append(fall_csv_dataframe.to_numpy(dtype=\"float32\"))"
   ]
  },
  {
   "cell_type": "code",
   "execution_count": 4,
   "metadata": {},
   "outputs": [
    {
     "data": {
      "text/plain": [
       "array([ 1.1100000e+00,  1.1100000e+02, -5.9000000e-02, -8.8000000e-01,\n",
       "       -3.1999999e-01, -7.3338623e+00,  4.5836639e+00, -5.7295799e-01,\n",
       "        1.5406840e+01, -1.3029065e+01,  5.3267906e+01], dtype=float32)"
      ]
     },
     "execution_count": 4,
     "metadata": {},
     "output_type": "execute_result"
    }
   ],
   "source": [
    "fall_frames[0][0]"
   ]
  },
  {
   "cell_type": "code",
   "execution_count": 5,
   "metadata": {},
   "outputs": [],
   "source": [
    "notfall_frames = []\n",
    "for notfall_csv in os.listdir(NOTFALL_DATA_PATH):\n",
    "    notfall_csv_path = os.path.join(NOTFALL_DATA_PATH,notfall_csv)\n",
    "    notfall_csv_dataframe = pd.read_csv(notfall_csv_path,header=None)\n",
    "    notfall_frames.append(notfall_csv_dataframe.to_numpy(dtype=\"float32\"))"
   ]
  },
  {
   "cell_type": "code",
   "execution_count": 6,
   "metadata": {},
   "outputs": [
    {
     "data": {
      "text/plain": [
       "(200, 11)"
      ]
     },
     "execution_count": 6,
     "metadata": {},
     "output_type": "execute_result"
    }
   ],
   "source": [
    "len(notfall_frames)\n",
    "notfall_frames[1].shape"
   ]
  },
  {
   "cell_type": "code",
   "execution_count": 7,
   "metadata": {},
   "outputs": [
    {
     "data": {
      "text/plain": [
       "numpy.ndarray"
      ]
     },
     "execution_count": 7,
     "metadata": {},
     "output_type": "execute_result"
    }
   ],
   "source": [
    "type(fall_frames[0])"
   ]
  },
  {
   "cell_type": "code",
   "execution_count": null,
   "metadata": {},
   "outputs": [],
   "source": [
    "save_path = \"saved_model/sensor_model\"\n",
    "save_dir = os.path.dirname(save_path)"
   ]
  },
  {
   "cell_type": "code",
   "execution_count": 10,
   "metadata": {},
   "outputs": [],
   "source": [
    "fall_frames = np.asarray(fall_frames)\n",
    "notfall_frames = np.asarray(notfall_frames)\n",
    "\n",
    "X = np.concatenate((fall_frames,notfall_frames))\n",
    "Y = np.asarray([1]*len(fall_frames) + [0]*len(notfall_frames))\n",
    "X_train, X_test, Y_train, Y_test = train_test_split(X,Y,test_size=0.3)\n",
    "X_test, X_val, Y_test, Y_val = train_test_split(X_test, Y_test, test_size=0.5)"
   ]
  },
  {
   "cell_type": "code",
   "execution_count": 1,
   "metadata": {},
   "outputs": [],
   "source": [
    "class SensorModel:\n",
    "    SEQUENCE_SIZE = 200\n",
    "    INPUT_DIM = 11\n",
    "    OUTPUT_DIM = 1\n",
    "    def __init__(self):\n",
    "        self.model = None\n",
    "        \n",
    "    @classmethod\n",
    "    def load(cls,path):\n",
    "        sensorModel = cls()\n",
    "        sensorModel.model = keras.models.load_model(path)\n",
    "        return sensorModel\n",
    "        \n",
    "    def create(self,loss=\"binary_crossentropy\",optimizer=\"adam\",metrics=['accuracy']):\n",
    "        self.model = keras.Sequential()\n",
    "        self.model.add(layers.LSTM(64,input_dim=self.INPUT_DIM,input_length=self.SEQUENCE_SIZE))\n",
    "        self.model.add(layers.Dense(self.OUTPUT_DIM,activation=\"sigmoid\"))\n",
    "        self.model.compile(loss=loss,optimizer=optimizer,metrics=metrics)\n",
    "    def train(self,x_train,y_train,x_val,y_val,batch_size=8,epochs=10):\n",
    "        self.model.fit(x_train,y_train,batch_size=batch_size, epochs=epochs,verbose=1,validation_data=(x_val,y_val))\n",
    "    def predict(self,x_test):\n",
    "        return self.model.predict(x_test)\n",
    "        "
   ]
  },
  {
   "cell_type": "code",
   "execution_count": null,
   "metadata": {},
   "outputs": [],
   "source": [
    "model = SensorModel.load(save_path)\n",
    "# model.create()\n",
    "# model.train(X_train,Y_train,X_val,Y_val)\n",
    "model.predict(X_test)"
   ]
  }
 ],
 "metadata": {
  "kernelspec": {
   "display_name": "tf",
   "language": "python",
   "name": "python3"
  },
  "language_info": {
   "codemirror_mode": {
    "name": "ipython",
    "version": 3
   },
   "file_extension": ".py",
   "mimetype": "text/x-python",
   "name": "python",
   "nbconvert_exporter": "python",
   "pygments_lexer": "ipython3",
   "version": "3.9.16"
  },
  "orig_nbformat": 4
 },
 "nbformat": 4,
 "nbformat_minor": 2
}
